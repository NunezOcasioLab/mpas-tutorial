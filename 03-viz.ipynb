{
 "cells": [
  {
   "cell_type": "markdown",
   "id": "fc848b30-927f-40f5-989b-3bbaf604e400",
   "metadata": {},
   "source": [
    "---\n",
    "title: Viz\n",
    "subtitle: Visualizing native-grid output in Python\n",
    "---"
   ]
  },
  {
   "cell_type": "code",
   "execution_count": 1,
   "id": "478e135b-116c-41c1-8397-0880936dc908",
   "metadata": {},
   "outputs": [
    {
     "name": "stdout",
     "output_type": "stream",
     "text": [
      "yes\n"
     ]
    }
   ],
   "source": [
    "print(\"yes\")"
   ]
  },
  {
   "cell_type": "markdown",
   "id": "b2b495b8-3df1-400b-bc01-15ee10acfeb3",
   "metadata": {},
   "source": [
    "# Matplotlib\n",
    "\n",
    "Although `pcolormesh` won't work, we can treat our data as scatter points or take advantage of Matplotlib's [tricontouring support](https://matplotlib.org/stable/api/_as_gen/matplotlib.pyplot.tricontour.html)."
   ]
  },
  {
   "cell_type": "markdown",
   "id": "f372483e-7462-46d2-8d79-e1f890794853",
   "metadata": {},
   "source": [
    "# uxarray\n",
    "\n",
    "[uxarray](https://uxarray.readthedocs.io/en/v2025.09.0/) builds on xarray to provide a unified interface for working with unstructured-grid data, including MPAS."
   ]
  },
  {
   "cell_type": "markdown",
   "id": "34de5a3e-ac64-4f9d-b4e2-d9341545f61e",
   "metadata": {},
   "source": [
    "## HoloViz\n",
    "\n",
    "uxarray provides various routines for visualization [with the help of HoloViews](https://uxarray.readthedocs.io/en/v2025.09.0/user-guide/plotting.html). By default, you get interactive plots that use the Bokeh backend. Rasterization, by datashader, can be explicitly turned on or off using the `rasterize` keyword (and configured using `pixel_ratio`)."
   ]
  },
  {
   "cell_type": "markdown",
   "id": "4f9abce4-b770-4a02-b87a-f5401be51313",
   "metadata": {},
   "source": [
    "## Raster\n",
    "\n",
    "uxarray provides capabilities for [generating raster](https://uxarray.readthedocs.io/en/v2025.09.0/user-guide/mpl.html#rasterization) representations of your data on the fly, for plotting with Cartopy/Matplotlib without needing to go through HoloViews. Here we also have `pixel_ratio`."
   ]
  },
  {
   "cell_type": "markdown",
   "id": "5277719c-30fc-416a-ba81-29fbad9a4a27",
   "metadata": {
    "jp-MarkdownHeadingCollapsed": true
   },
   "source": [
    "## Matplotlib Collections\n",
    "\n",
    "The meshes can also be represented exactly [using Matplotlib Collections](https://uxarray.readthedocs.io/en/v2025.09.0/user-guide/mpl.html#matplotlib-collections).\n",
    "\n",
    "This is a good opportunity to use uxarray's [subsetting support](https://uxarray.readthedocs.io/en/v2025.09.0/user-guide/subset.html), as Matplotlib Collections may be slow to plot if you provide too many cells."
   ]
  },
  {
   "cell_type": "markdown",
   "id": "270910cf-d6df-4846-b644-39def35d008a",
   "metadata": {},
   "source": [
    "# GeoVista\n",
    "\n",
    "Built on PyVista/VTK, [GeoVista](https://geovista.readthedocs.io/) provides GPU-accelerated interactive visualization of geospatial data and has [builtin support](https://geovista.readthedocs.io/en/v0.5.3/reference/generated/api/geovista/bridge/#geovista.bridge.Transform.from_unstructured) for unstructured meshes."
   ]
  },
  {
   "cell_type": "markdown",
   "id": "bbf90ae6-0624-4d9d-b593-aa0a1bfe6349",
   "metadata": {},
   "source": [
    "# lonboard\n",
    "\n",
    "[lonboard](https://developmentseed.org/lonboard/) provides GPU-accelerated interactive visualiation of geospatial vector data.\n",
    "We can pass it our cell polygons. We can get these using uxarray or construct them ourselves."
   ]
  }
 ],
 "metadata": {
  "kernelspec": {
   "display_name": "Python 3 (ipykernel)",
   "language": "python",
   "name": "python3"
  },
  "language_info": {
   "codemirror_mode": {
    "name": "ipython",
    "version": 3
   },
   "file_extension": ".py",
   "mimetype": "text/x-python",
   "name": "python",
   "nbconvert_exporter": "python",
   "pygments_lexer": "ipython3",
   "version": "3.12.11"
  }
 },
 "nbformat": 4,
 "nbformat_minor": 5
}
