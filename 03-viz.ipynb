{
 "cells": [
  {
   "cell_type": "markdown",
   "id": "0",
   "metadata": {
    "editable": true,
    "slideshow": {
     "slide_type": ""
    },
    "tags": []
   },
   "source": [
    "---\n",
    "title: Viz\n",
    "subtitle: Visualizing native-grid output in Python\n",
    "label: page:viz\n",
    "kernelspec:\n",
    "  name: python3\n",
    "  display_name: Python 3\n",
    "---"
   ]
  },
  {
   "cell_type": "markdown",
   "id": "1",
   "metadata": {
    "editable": true,
    "slideshow": {
     "slide_type": ""
    },
    "tags": []
   },
   "source": [
    "```{note}\n",
    "This notebook is designed to run anywhere\n",
    "and includes automatic dataset fetching[^data].\n",
    "\n",
    "The conda environment spec (`environment.yml`) in the GitHub repository can be used\n",
    "to create a local environment with the necessary packages.\n",
    "Or you can also [open in Binder](https://mybinder.org/v2/gh/NunezOcasioLab/mpas-tutorial/HEAD?urlpath=lab%2Ftree%2F03-viz.ipynb).\n",
    "```\n",
    "\n",
    "[^data]: small files by default\n",
    "\n",
    "# Intro\n",
    "\n",
    "With unstructured-grid data, the grid/coordinate information is usually stored in a separate file from the model output fields. Considerably more information is needed to reconstruct the grid than in the case of a rectangular lat/lon grid, for example, which can be expressed with 1-D coordinate variables (e.g. ERA5).\n",
    "\n",
    "With MPAS-A, the necessary grid variables are available in multiple files:\n",
    "\n",
    "* the **grid** file (usually ends in `.grid.nc`)\n",
    "  - agnostic to simulation\n",
    "  - note that with the standard limited-area workflow, which involves cutting out a section of a global grid, this can't be used\n",
    "* the **static** file (usually ends in `.static.nc`)\n",
    "  - produced as part of the model initialization/prep process, contains static fields like terrain height\n",
    "* **initial conditions** (usually ends in `.init.nc`)\n",
    "  - easier to work with since the connectivity for the primal mesh uses zeros for padding\n",
    " \n",
    "Some example grid and static files are available at: <https://mpas-dev.github.io/atmosphere/atmosphere_meshes.html>\n",
    "\n",
    "Or on Casper/Derecho at:\n",
    "```\n",
    "/glade/campaign/mmm/wmr/duda/mesh/\n",
    "```"
   ]
  },
  {
   "cell_type": "markdown",
   "id": "2",
   "metadata": {},
   "source": [
    "# Data"
   ]
  },
  {
   "cell_type": "code",
   "execution_count": null,
   "id": "3",
   "metadata": {
    "editable": true,
    "slideshow": {
     "slide_type": ""
    },
    "tags": []
   },
   "outputs": [],
   "source": [
    "import os\n",
    "from pathlib import Path\n",
    "\n",
    "import cartopy.crs as ccrs\n",
    "import cartopy.feature as cfeature\n",
    "import geoviews.feature as gf\n",
    "import geovista as gv\n",
    "import matplotlib.pyplot as plt\n",
    "import numpy as np\n",
    "import pyvista as pv\n",
    "import requests\n",
    "import uxarray as ux\n",
    "import xarray as xr\n",
    "\n",
    "CI = os.environ.get(\"CI\", \"false\").strip() == \"true\"\n",
    "\n",
    "# https://docs.pyvista.org/user-guide/jupyter/\n",
    "pv.set_jupyter_backend(\"static\")\n",
    "\n",
    "_ = xr.set_options(display_expand_data=False)"
   ]
  },
  {
   "cell_type": "markdown",
   "id": "4",
   "metadata": {
    "editable": true,
    "slideshow": {
     "slide_type": ""
    },
    "tags": []
   },
   "source": [
    "First we fetch an example global mesh: `x1.2562` (~ 480-km resolution;\n",
    "chosen for its small file size and quickness to plot).\n",
    "Note that the uniform global meshes are really _quasi_-uniform."
   ]
  },
  {
   "cell_type": "code",
   "execution_count": null,
   "id": "5",
   "metadata": {
    "editable": true,
    "slideshow": {
     "slide_type": ""
    },
    "tags": [
     "hide-input"
    ]
   },
   "outputs": [],
   "source": [
    "def fetch_example_mesh(mesh: str = \"x1.2562\"):\n",
    "    \"\"\"Fetch example mesh from\n",
    "    https://www2.mmm.ucar.edu/projects/mpas/atmosphere_meshes\n",
    "    returning paths to the grid file and the static file.\"\"\"\n",
    "    import tarfile\n",
    "    from io import BytesIO\n",
    "\n",
    "    base = \"https://www2.mmm.ucar.edu/projects/mpas/atmosphere_meshes\"\n",
    "\n",
    "    p_grid = Path(f\"{mesh}.grid.nc\")\n",
    "    if not p_grid.is_file():\n",
    "        r = requests.get(f\"{base}/{mesh}.tar.gz\", stream=True)\n",
    "        r.raise_for_status()\n",
    "        with tarfile.open(fileobj=BytesIO(r.content), mode=\"r:gz\") as tar:\n",
    "            tar.extract(p_grid.name, filter=\"data\")\n",
    "\n",
    "    p_static = Path(f\"{mesh}.static.nc\")\n",
    "    if not p_static.is_file():\n",
    "        r = requests.get(f\"{base}/{mesh}_static.tar.gz\", stream=True)\n",
    "        r.raise_for_status()\n",
    "        with tarfile.open(fileobj=BytesIO(r.content), mode=\"r:gz\") as tar:\n",
    "            tar.extract(p_static.name, filter=\"data\")\n",
    "\n",
    "    return p_grid, p_static"
   ]
  },
  {
   "cell_type": "code",
   "execution_count": null,
   "id": "6",
   "metadata": {
    "editable": true,
    "slideshow": {
     "slide_type": ""
    },
    "tags": []
   },
   "outputs": [],
   "source": [
    "grid_path, _ = fetch_example_mesh()\n",
    "\n",
    "g = xr.open_dataset(grid_path)\n",
    "assert g.sphere_radius == 1, \"unit sphere\"\n",
    "\n",
    "area = g.areaCell * 6371**2  # m2 on unit sphere -> km2 on Earth sphere\n",
    "area.attrs.update(units=\"km2\")\n",
    "\n",
    "_, _, patches = np.sqrt(area).plot.hist(bins=20, size=3.5, aspect=1.8)\n",
    "plt.xlabel(\"sqrt(areaCell) [km$^2$]\")\n",
    "plt.ylabel(\"Count\")\n",
    "_ = plt.bar_label(patches, size=8)"
   ]
  },
  {
   "cell_type": "markdown",
   "id": "7",
   "metadata": {
    "editable": true,
    "slideshow": {
     "slide_type": ""
    },
    "tags": []
   },
   "source": [
    "# Matplotlib\n",
    "\n",
    "Although `pcolormesh` won't work, we can treat our data as scatter points or take advantage of Matplotlib's [tricontouring support](https://matplotlib.org/stable/api/_as_gen/matplotlib.pyplot.tricontour.html)."
   ]
  },
  {
   "cell_type": "code",
   "execution_count": null,
   "id": "8",
   "metadata": {},
   "outputs": [],
   "source": [
    "fig, ax = plt.subplots(subplot_kw=dict(projection=ccrs.Mollweide()))\n",
    "\n",
    "ax.set_global()\n",
    "\n",
    "x = np.rad2deg(g.lonCell)\n",
    "y = np.rad2deg(g.latCell)\n",
    "data = g.areaCell\n",
    "\n",
    "_ = ax.scatter(\n",
    "    x,\n",
    "    y,\n",
    "    c=data,\n",
    "    s=20,\n",
    "    marker=\".\",\n",
    "    linewidths=0,\n",
    "    cmap=\"gnuplot_r\",\n",
    "    transform=ccrs.PlateCarree(),\n",
    ")"
   ]
  },
  {
   "cell_type": "code",
   "execution_count": null,
   "id": "9",
   "metadata": {},
   "outputs": [],
   "source": [
    "# The above becomes slow after 100k points or so,\n",
    "# but you can still use it by slicing the data\n",
    "\n",
    "fig, ax = plt.subplots(subplot_kw=dict(projection=ccrs.Mollweide()))\n",
    "\n",
    "ax.set_global()\n",
    "\n",
    "k = 4\n",
    "_ = ax.scatter(\n",
    "    x[::k],\n",
    "    y[::k],\n",
    "    c=data[::k],\n",
    "    s=50,\n",
    "    marker=\"o\",\n",
    "    linewidths=0,\n",
    "    cmap=\"gnuplot_r\",\n",
    "    transform=ccrs.PlateCarree(),\n",
    ")"
   ]
  },
  {
   "cell_type": "code",
   "execution_count": null,
   "id": "10",
   "metadata": {},
   "outputs": [],
   "source": [
    "from matplotlib.tri import Triangulation\n",
    "\n",
    "# We can reuse this for different plots\n",
    "# If we pass just x and y, a Delaunay triangulation is computed automatically\n",
    "tri = Triangulation(x, y)\n",
    "assert tri.is_delaunay\n",
    "print(f\"{len(tri.triangles)} triangles (real number: {g.sizes['nVertices']})\")\n",
    "\n",
    "fig, ax = plt.subplots(subplot_kw=dict(projection=ccrs.Mollweide()))\n",
    "\n",
    "ax.set_global()\n",
    "\n",
    "_ = ax.tricontourf(tri, data, levels=25, transform=ccrs.PlateCarree(), cmap=\"gnuplot_r\")"
   ]
  },
  {
   "cell_type": "code",
   "execution_count": null,
   "id": "11",
   "metadata": {},
   "outputs": [],
   "source": [
    "# For MPAS, we know that the dual mesh forms a Delaunay triangulation already\n",
    "# and we can pass it, but the triangle defns have to be in CCW order\n",
    "# Contouring technically takes values at grid points (mesh nodes),\n",
    "# and the dual mesh nodes are the primal mesh centers\n",
    "# The issue is that some of the triangles cross the antimeridian\n",
    "# A more robust solution is to use\n",
    "# https://mpas-dev.github.io/MPAS-Tools/1.0.0/generated/mpas_tools.viz.mesh_to_triangles.mesh_to_triangles.html\n",
    "x = np.rad2deg(g.lonCell)\n",
    "y = np.rad2deg(g.latCell)\n",
    "inds = g.cellsOnVertex - 1\n",
    "data = g.areaCell\n",
    "\n",
    "tri = Triangulation(x, y, triangles=inds)\n",
    "print(f\"{len(tri.triangles)} triangles\")\n",
    "\n",
    "fig, ax = plt.subplots(subplot_kw=dict(projection=ccrs.Mollweide()), layout=\"constrained\")\n",
    "\n",
    "ax.set_global()\n",
    "\n",
    "_ = ax.tricontour(tri, data, levels=25, transform=ccrs.Geodetic(), cmap=\"gnuplot_r\")"
   ]
  },
  {
   "cell_type": "code",
   "execution_count": null,
   "id": "12",
   "metadata": {},
   "outputs": [],
   "source": [
    "# The primal mesh edges connect the dual mesh centers\n",
    "# but the primal mesh is not triangles (though each cell can be broken into tris)\n",
    "# But we can use the auto triangulation\n",
    "x = np.rad2deg(g.lonVertex)\n",
    "y = np.rad2deg(g.latVertex)\n",
    "data = g.areaTriangle\n",
    "\n",
    "tri = Triangulation(x, y)\n",
    "print(f\"{len(tri.triangles)} triangles\")\n",
    "\n",
    "fig, ax = plt.subplots(subplot_kw=dict(projection=ccrs.Mollweide()), layout=\"constrained\")\n",
    "\n",
    "ax.set_global()\n",
    "\n",
    "_ = ax.tricontour(tri, data, levels=15, transform=ccrs.PlateCarree(), cmap=\"gnuplot_r\")"
   ]
  },
  {
   "cell_type": "markdown",
   "id": "13",
   "metadata": {
    "editable": true,
    "slideshow": {
     "slide_type": ""
    },
    "tags": []
   },
   "source": [
    "# uxarray\n",
    "\n",
    "[uxarray](https://uxarray.readthedocs.io/en/v2025.09.0/) builds on xarray to provide a unified interface for working with unstructured-grid data, including MPAS.\n",
    "\n",
    "uxarray considers the unit sphere internally."
   ]
  },
  {
   "cell_type": "code",
   "execution_count": null,
   "id": "14",
   "metadata": {
    "editable": true,
    "slideshow": {
     "slide_type": ""
    },
    "tags": []
   },
   "outputs": [],
   "source": [
    "uxg = ux.open_grid(grid_path)\n",
    "uxds = ux.UxDataset.from_xarray(area.to_dataset(), uxgrid=uxg)"
   ]
  },
  {
   "cell_type": "markdown",
   "id": "15",
   "metadata": {
    "editable": true,
    "slideshow": {
     "slide_type": ""
    },
    "tags": []
   },
   "source": [
    "## HoloViz\n",
    "\n",
    "uxarray provides various routines for visualization [with the help of HoloViews](https://uxarray.readthedocs.io/en/v2025.09.0/user-guide/plotting.html). By default, you get interactive plots that use the Bokeh backend. Rasterization, by datashader, can be explicitly turned on or off using the `rasterize` keyword (and configured using `pixel_ratio`)."
   ]
  },
  {
   "cell_type": "code",
   "execution_count": null,
   "id": "16",
   "metadata": {
    "editable": true,
    "slideshow": {
     "slide_type": ""
    },
    "tags": []
   },
   "outputs": [],
   "source": [
    "uxg.plot(frame_width=450)"
   ]
  },
  {
   "cell_type": "code",
   "execution_count": null,
   "id": "17",
   "metadata": {
    "editable": true,
    "slideshow": {
     "slide_type": ""
    },
    "tags": []
   },
   "outputs": [],
   "source": [
    "# More expensive, but we can fill the viewport\n",
    "uxg.plot(periodic_elements=\"split\", frame_width=450)"
   ]
  },
  {
   "cell_type": "code",
   "execution_count": null,
   "id": "18",
   "metadata": {
    "editable": true,
    "slideshow": {
     "slide_type": ""
    },
    "tags": []
   },
   "outputs": [],
   "source": [
    "uxg.plot(projection=ccrs.Orthographic(), frame_width=450) * gf.coastline"
   ]
  },
  {
   "cell_type": "code",
   "execution_count": null,
   "id": "19",
   "metadata": {
    "editable": true,
    "slideshow": {
     "slide_type": ""
    },
    "tags": []
   },
   "outputs": [],
   "source": [
    "%%time\n",
    "\n",
    "# With high-resolution grids, rasterize=False can increase plot time significantly.\n",
    "area = uxds.areaCell\n",
    "proj = ccrs.Robinson()\n",
    "cmap = \"gnuplot_r\"\n",
    "\n",
    "layout = (\n",
    "    area.plot.polygons(\n",
    "        title=\"Vector polygons\",\n",
    "        projection=proj,\n",
    "        periodic_elements=\"split\",\n",
    "        rasterize=False,\n",
    "        line_width=0.5,\n",
    "        line_color=\"0.5\",\n",
    "        cmap=cmap,\n",
    "    )\n",
    "    + area.plot.polygons(\n",
    "        title=\"Default raster\",\n",
    "        projection=proj,\n",
    "        periodic_elements=\"split\",\n",
    "        cmap=cmap,\n",
    "    )\n",
    "    + area.plot.polygons(\n",
    "        title=\"Raster with pixel ratio 4\",\n",
    "        projection=proj,\n",
    "        periodic_elements=\"split\",\n",
    "        pixel_ratio=4,  # > 1 to better resolve the cells\n",
    "        cmap=cmap,\n",
    "    )\n",
    ")\n",
    "\n",
    "layout.cols(1) * gf.coastline(line_color=\"limegreen\")"
   ]
  },
  {
   "cell_type": "markdown",
   "id": "20",
   "metadata": {
    "editable": true,
    "slideshow": {
     "slide_type": ""
    },
    "tags": []
   },
   "source": [
    "## Raster\n",
    "\n",
    "uxarray provides capabilities for [generating raster](https://uxarray.readthedocs.io/en/v2025.09.0/user-guide/mpl.html#rasterization) representations of your data on the fly, for plotting with Cartopy/Matplotlib without needing to go through HoloViews. Here we also have `pixel_ratio`."
   ]
  },
  {
   "cell_type": "code",
   "execution_count": null,
   "id": "21",
   "metadata": {
    "editable": true,
    "slideshow": {
     "slide_type": ""
    },
    "tags": []
   },
   "outputs": [],
   "source": [
    "%%time\n",
    "\n",
    "fig, ax = plt.subplots(subplot_kw=dict(projection=ccrs.Mollweide()), layout=\"constrained\")\n",
    "\n",
    "# Must set extent before calling `.to_raster()`\n",
    "ax.set_global()\n",
    "\n",
    "raster = uxds[\"areaCell\"].to_raster(ax=ax)\n",
    "ax.imshow(raster, cmap=\"gnuplot_r\", origin=\"lower\", extent=ax.get_xlim() + ax.get_ylim())\n",
    "_ = ax.coastlines()"
   ]
  },
  {
   "cell_type": "code",
   "execution_count": null,
   "id": "22",
   "metadata": {},
   "outputs": [],
   "source": [
    "%%time\n",
    "\n",
    "# The raster can also be contoured\n",
    "# but with this very low-res data it's not really what we would want\n",
    "\n",
    "fig, axs = plt.subplots(2, 1, subplot_kw=dict(projection=ccrs.Mollweide()), layout=\"constrained\")\n",
    "\n",
    "for ax, pixel_ratio in zip(axs.flat, [0.25, 3], strict=True):\n",
    "    # Must set extent before calling `.to_raster()`\n",
    "    ax.set_global()\n",
    "\n",
    "    raster = uxds[\"areaCell\"].to_raster(ax=ax, pixel_ratio=pixel_ratio)\n",
    "    ax.contourf(\n",
    "        raster,\n",
    "        levels=30,\n",
    "        cmap=\"gnuplot_r\",\n",
    "        origin=\"lower\",\n",
    "        extent=ax.get_xlim() + ax.get_ylim(),\n",
    "    )\n",
    "    ax.coastlines()\n",
    "    ax.set_title(f\"Pixel ratio: {pixel_ratio}\", loc=\"left\", size=9)"
   ]
  },
  {
   "cell_type": "code",
   "execution_count": null,
   "id": "23",
   "metadata": {
    "editable": true,
    "slideshow": {
     "slide_type": ""
    },
    "tags": []
   },
   "outputs": [],
   "source": [
    "%%time\n",
    "\n",
    "TAMU = -96.3364, 30.6187\n",
    "\n",
    "fig, ax = plt.subplots(\n",
    "    subplot_kw=dict(projection=ccrs.Mercator()), figsize=(5, 3.5), layout=\"constrained\"\n",
    ")\n",
    "\n",
    "# Must set extent before calling `.to_raster()`\n",
    "# The rasterization will be more efficient if we also select a spatial subset of the data,\n",
    "# but it's not required\n",
    "ax.set_extent((-100, -80, 22, 35))\n",
    "\n",
    "raster = uxds[\"areaCell\"].to_raster(ax=ax)\n",
    "ax.imshow(raster, cmap=\"gnuplot_r\", origin=\"lower\", extent=ax.get_xlim() + ax.get_ylim())\n",
    "\n",
    "ax.add_feature(cfeature.STATES, edgecolor=\"0.25\", linewidth=1)\n",
    "ax.coastlines()\n",
    "ax.gridlines(draw_labels=True)\n",
    "\n",
    "_ = ax.plot(*TAMU, marker=\"*\", markersize=15, color=\"white\", transform=ccrs.PlateCarree())"
   ]
  },
  {
   "cell_type": "markdown",
   "id": "24",
   "metadata": {
    "editable": true,
    "slideshow": {
     "slide_type": ""
    },
    "tags": []
   },
   "source": [
    "## Matplotlib Collections\n",
    "\n",
    "The meshes can also be represented exactly [using Matplotlib Collections](https://uxarray.readthedocs.io/en/v2025.09.0/user-guide/mpl.html#matplotlib-collections).\n",
    "\n",
    "This is a good opportunity to use uxarray's [subsetting support](https://uxarray.readthedocs.io/en/v2025.09.0/user-guide/subset.html), as Matplotlib Collections may be slow to plot if you provide too many cells."
   ]
  },
  {
   "cell_type": "code",
   "execution_count": null,
   "id": "25",
   "metadata": {
    "editable": true,
    "slideshow": {
     "slide_type": ""
    },
    "tags": []
   },
   "outputs": [],
   "source": [
    "lon_bounds = (-100, -80)\n",
    "lat_bounds = (22, 35)\n",
    "b = 5  # buffer for the selection so we can fill the plot area\n",
    "\n",
    "fig, ax = plt.subplots(\n",
    "    subplot_kw=dict(projection=ccrs.Mercator()), figsize=(5, 3.5), layout=\"constrained\"\n",
    ")\n",
    "\n",
    "ax.set_extent(lon_bounds + lat_bounds)\n",
    "\n",
    "# Here, especially if you have a large mesh, it is very beneficial to select\n",
    "# the spatial subset first, to reduce the number of polygons computed/added\n",
    "poly_collection = (\n",
    "    uxds[\"areaCell\"]\n",
    "    .subset.bounding_box(\n",
    "        lon_bounds=(lon_bounds[0] - b, lon_bounds[1] + b),\n",
    "        lat_bounds=(lat_bounds[0] - b, lat_bounds[1] + b),\n",
    "    )\n",
    "    .to_polycollection()\n",
    ")\n",
    "\n",
    "poly_collection.set_cmap(\"gnuplot_r\")\n",
    "ax.add_collection(poly_collection)\n",
    "\n",
    "ax.add_feature(cfeature.STATES, edgecolor=\"0.25\", linewidth=1)\n",
    "ax.coastlines()\n",
    "ax.gridlines(draw_labels=True)\n",
    "\n",
    "_ = ax.plot(*TAMU, marker=\"*\", markersize=15, color=\"white\", transform=ccrs.PlateCarree())"
   ]
  },
  {
   "cell_type": "markdown",
   "id": "26",
   "metadata": {},
   "source": [
    "(sec:geovista)=\n",
    "\n",
    "# GeoVista\n",
    "\n",
    "Built on PyVista/VTK, [GeoVista](https://geovista.readthedocs.io/) provides GPU-accelerated interactive visualization of geospatial data and has [builtin support](https://geovista.readthedocs.io/en/v0.5.3/reference/generated/api/geovista/bridge/#geovista.bridge.Transform.from_unstructured) for unstructured meshes.\n",
    "\n",
    "It will still work if a GPU is not available/detected, but it may be much slower to first plot and to respond.\n",
    "\n",
    "```{note}\n",
    "This doesn't currently work in NCAR JupyterHub or Binder [^ci].\n",
    "```\n",
    "\n",
    "[^ci]: Or when this site is built, for that matter, which is why it is currently guarded."
   ]
  },
  {
   "cell_type": "code",
   "execution_count": null,
   "id": "27",
   "metadata": {},
   "outputs": [],
   "source": [
    "if not CI:\n",
    "    conn = np.ma.masked_where(g.verticesOnCell == 0, g.verticesOnCell, copy=False) - 1\n",
    "\n",
    "    mesh = gv.Transform.from_unstructured(\n",
    "        np.rad2deg(g.lonVertex),\n",
    "        np.rad2deg(g.latVertex),\n",
    "        connectivity=conn,\n",
    "        data=area,\n",
    "    )\n",
    "\n",
    "    pl = gv.GeoPlotter()\n",
    "\n",
    "    sargs = {\"title\": r\"Grid cell area [km²]\", \"shadow\": True}\n",
    "    pl.add_mesh(\n",
    "        mesh,\n",
    "        scalar_bar_args=sargs,\n",
    "        cmap=\"gnuplot_r\",\n",
    "    )\n",
    "\n",
    "    # pl.add_base_layer(texture=gv.natural_earth_hypsometric())\n",
    "    pl.add_coastlines(color=\"white\")\n",
    "    pl.add_graticule(lon_step=None, lat_step=None, show_labels=False)\n",
    "\n",
    "    pl.view_yz()\n",
    "    pl.camera.zoom(1.5)\n",
    "\n",
    "    pl.show()"
   ]
  },
  {
   "cell_type": "markdown",
   "id": "28",
   "metadata": {},
   "source": [
    "\n",
    "````{dropdown} Result\n",
    "\n",
    "```{image} geovista-globe-preview.png\n",
    "\n",
    "```\n",
    "````"
   ]
  },
  {
   "cell_type": "code",
   "execution_count": null,
   "id": "29",
   "metadata": {},
   "outputs": [],
   "source": [
    "if not CI:\n",
    "    pl = gv.GeoPlotter(crs=\"ESRI:54030\")  # Robinson\n",
    "\n",
    "    sargs = {\"title\": \"Grid cell area [km²]\", \"shadow\": True}\n",
    "    pl.add_mesh(\n",
    "        mesh,\n",
    "        scalar_bar_args=sargs,\n",
    "        cmap=\"gnuplot_r\",\n",
    "    )\n",
    "\n",
    "    # pl.add_base_layer(texture=gv.natural_earth_hypsometric())\n",
    "    pl.add_coastlines(color=\"white\")\n",
    "    pl.add_graticule(lon_step=None, lat_step=None, show_labels=False)\n",
    "\n",
    "    pl.view_xy()\n",
    "    pl.enable_image_style()  # better interactivity for 2-D plots\n",
    "    pl.camera.zoom(1.5)\n",
    "\n",
    "    pl.show()"
   ]
  },
  {
   "cell_type": "markdown",
   "id": "30",
   "metadata": {},
   "source": [
    "````{dropdown} Result\n",
    "\n",
    "```{image} geovista-flat-preview.png\n",
    "\n",
    "```\n",
    "````"
   ]
  },
  {
   "cell_type": "markdown",
   "id": "31",
   "metadata": {
    "editable": true,
    "slideshow": {
     "slide_type": ""
    },
    "tags": []
   },
   "source": [
    "# lonboard\n",
    "\n",
    "[lonboard](https://developmentseed.org/lonboard/) provides GPU-accelerated interactive visualiation of geospatial vector data.\n",
    "We can pass it cell polygons. An easy way to get these is using uxarray."
   ]
  },
  {
   "cell_type": "code",
   "execution_count": null,
   "id": "32",
   "metadata": {
    "editable": true,
    "slideshow": {
     "slide_type": ""
    },
    "tags": []
   },
   "outputs": [],
   "source": [
    "from lonboard import Map, PolygonLayer\n",
    "from matplotlib.colors import Normalize\n",
    "\n",
    "gdf = (\n",
    "    uxds[\"areaCell\"]\n",
    "    .to_geodataframe(engine=\"geopandas\", periodic_elements=\"exclude\")\n",
    "    .set_crs(\"EPSG:4326\")\n",
    ")\n",
    "\n",
    "arr = gdf.areaCell\n",
    "cmap = plt.get_cmap(\"gnuplot_r\")\n",
    "norm = Normalize(vmin=arr.min(), vmax=arr.max())\n",
    "colors = (cmap(norm(arr)) * 255).astype(\"uint8\")\n",
    "\n",
    "layer = PolygonLayer.from_geopandas(\n",
    "    gdf,\n",
    "    get_fill_color=colors,\n",
    "    get_line_color=[0, 100, 100, 150],\n",
    "    line_width_min_pixels=1,\n",
    ")\n",
    "m = Map(layer)\n",
    "m"
   ]
  },
  {
   "cell_type": "markdown",
   "id": "33",
   "metadata": {},
   "source": [
    "````{dropdown} Static preview of the result\n",
    "\n",
    "For when kernel is not active.\n",
    "\n",
    "```{image} lonboard-preview.png\n",
    "\n",
    "```\n",
    "````"
   ]
  }
 ],
 "metadata": {
  "language_info": {
   "codemirror_mode": {
    "name": "ipython",
    "version": 3
   },
   "file_extension": ".py",
   "mimetype": "text/x-python",
   "name": "python",
   "nbconvert_exporter": "python",
   "pygments_lexer": "ipython3"
  }
 },
 "nbformat": 4,
 "nbformat_minor": 5
}
